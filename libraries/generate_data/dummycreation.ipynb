{
 "cells": [
  {
   "cell_type": "code",
   "id": "initial_id",
   "metadata": {
    "collapsed": true,
    "ExecuteTime": {
     "end_time": "2025-01-27T00:26:46.602831Z",
     "start_time": "2025-01-27T00:26:46.545679Z"
    }
   },
   "source": [
    "import random\n",
    "\n",
    "with open(\"matrix.txt\", \"w\") as f:\n",
    "    # generate 10 000 rows\n",
    "    item = random.choice([0,1])\n",
    "    for i in range(10000):\n",
    "        row = \"\"\n",
    "        for j in range(10):\n",
    "            row += str(item) + \", \"\n",
    "        f.write(row + \"\\n\")"
   ],
   "outputs": [],
   "execution_count": 1
  }
 ],
 "metadata": {
  "kernelspec": {
   "display_name": "Python 3",
   "language": "python",
   "name": "python3"
  },
  "language_info": {
   "codemirror_mode": {
    "name": "ipython",
    "version": 2
   },
   "file_extension": ".py",
   "mimetype": "text/x-python",
   "name": "python",
   "nbconvert_exporter": "python",
   "pygments_lexer": "ipython2",
   "version": "2.7.6"
  }
 },
 "nbformat": 4,
 "nbformat_minor": 5
}
