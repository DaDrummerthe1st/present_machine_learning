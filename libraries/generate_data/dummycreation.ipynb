{
 "cells": [
  {
   "cell_type": "code",
   "id": "initial_id",
   "metadata": {
    "collapsed": true,
    "ExecuteTime": {
     "end_time": "2025-01-27T00:36:53.890725Z",
     "start_time": "2025-01-27T00:36:53.841515Z"
    }
   },
   "source": [
    "import random\n",
    "\n",
    "with open(\"matrix.txt\", \"w\") as f:\n",
    "    # generate 10 000 rows\n",
    "    for i in range(10000):\n",
    "        row = \"\"\n",
    "        for j in range(10):\n",
    "            item = random.choice([0, 1])\n",
    "            row += str(item) + \", \"\n",
    "        f.write(row + \"\\n\")\n",
    "\n",
    "categories = [ # each category represent the ML-answer from as many separate models\n",
    "            'is_blurry',\n",
    "            'has_identified_objects',\n",
    "            'contains_common_identified_objects',\n",
    "            'contains_text',\n",
    "            'has_exif_data',\n",
    "            'is_created_at_time_near_neighbor_file',\n",
    "            'is_created_geographically_close_to_neighbor_file',\n",
    "            'seems_like_screenshot',\n",
    "            'seems_very_dark',\n",
    "            'seems_very_light',\n",
    "            ]"
   ],
   "outputs": [],
   "execution_count": 3
  }
 ],
 "metadata": {
  "kernelspec": {
   "display_name": "Python 3",
   "language": "python",
   "name": "python3"
  },
  "language_info": {
   "codemirror_mode": {
    "name": "ipython",
    "version": 2
   },
   "file_extension": ".py",
   "mimetype": "text/x-python",
   "name": "python",
   "nbconvert_exporter": "python",
   "pygments_lexer": "ipython2",
   "version": "2.7.6"
  }
 },
 "nbformat": 4,
 "nbformat_minor": 5
}
