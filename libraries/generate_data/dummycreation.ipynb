{
 "cells": [
  {
   "cell_type": "code",
   "id": "initial_id",
   "metadata": {
    "collapsed": true,
    "ExecuteTime": {
     "end_time": "2025-01-27T01:28:21.358537Z",
     "start_time": "2025-01-27T01:28:21.316496Z"
    }
   },
   "source": [
    "import random\n",
    "import pandas as pd\n",
    "\n",
    "categories = [ # each category represent the ML-answer from as many separate models\n",
    "                ['is_blurry'],\n",
    "                ['has_identified_objects'],\n",
    "                ['contains_common_identified_objects'],\n",
    "                ['contains_text'],\n",
    "                ['has_exif_data'],\n",
    "                ['is_created_at_time_near_neighbor_file'],\n",
    "                ['is_created_geographically_close_to_neighbor_file'],\n",
    "                ['seems_like_screenshot'],\n",
    "                ['seems_very_dark'],\n",
    "                ['seems_very_light'],\n",
    "            ]\n",
    "df_categories = pd.DataFrame(categories)\n",
    "\n",
    "\n",
    "class DummyCreation:\n",
    "    def __init__(self):\n",
    "        self.array_of_analysis_result = []\n",
    "\n",
    "    def render_array_from_analysis(self):\n",
    "        # generate 10 000 rows\n",
    "        for i in range(10000):\n",
    "            row = \"\"\n",
    "            for j in range(10):\n",
    "                item = random.choice([0, 1])\n",
    "                row += str(item) + \", \"\n",
    "            self.array_of_analysis_result.append(row)\n",
    "\n",
    "        return self.array_of_analysis_result\n",
    "\n",
    "    def write_to_file(self, filename):\n",
    "        with open(filename, \"w\") as f:\n",
    "            array = self.render_array_from_analysis()\n",
    "            f.write(array + \"\\n\")\n",
    "            f.close()\n",
    "\n",
    "    def create_dataframe(self):\n",
    "        df = pd.DataFrame(self.render_array_from_analysis(), columns=categories)\n",
    "        return df\n",
    "\n",
    "\n",
    "foo_bar = DummyCreation()\n",
    "print(foo_bar.create_dataframe())"
   ],
   "outputs": [
    {
     "name": "stdout",
     "output_type": "stream",
     "text": [
      "                                            is_blurry\n",
      "                               has_identified_objects\n",
      "                   contains_common_identified_objects\n",
      "                                        contains_text\n",
      "                                        has_exif_data\n",
      "                is_created_at_time_near_neighbor_file\n",
      "     is_created_geographically_close_to_neighbor_file\n",
      "                                seems_like_screenshot\n",
      "                                      seems_very_dark\n",
      "                                     seems_very_light\n",
      "0                      1, 1, 0, 1, 0, 1, 1, 1, 1, 0, \n",
      "1                      0, 1, 1, 0, 1, 1, 0, 1, 0, 0, \n",
      "2                      1, 0, 0, 1, 0, 1, 1, 1, 1, 0, \n",
      "3                      1, 1, 0, 0, 0, 1, 1, 1, 0, 0, \n",
      "4                      1, 1, 0, 0, 0, 1, 1, 1, 1, 0, \n",
      "..                                                ...\n",
      "9995                   0, 1, 1, 1, 0, 1, 0, 0, 0, 1, \n",
      "9996                   0, 1, 1, 0, 0, 1, 0, 1, 0, 0, \n",
      "9997                   0, 1, 1, 0, 1, 0, 0, 1, 1, 0, \n",
      "9998                   1, 0, 0, 0, 0, 0, 0, 0, 0, 0, \n",
      "9999                   1, 0, 1, 0, 0, 0, 0, 0, 1, 1, \n",
      "\n",
      "[10000 rows x 1 columns]\n"
     ]
    }
   ],
   "execution_count": 11
  }
 ],
 "metadata": {
  "kernelspec": {
   "display_name": "Python 3",
   "language": "python",
   "name": "python3"
  },
  "language_info": {
   "codemirror_mode": {
    "name": "ipython",
    "version": 2
   },
   "file_extension": ".py",
   "mimetype": "text/x-python",
   "name": "python",
   "nbconvert_exporter": "python",
   "pygments_lexer": "ipython2",
   "version": "2.7.6"
  }
 },
 "nbformat": 4,
 "nbformat_minor": 5
}
