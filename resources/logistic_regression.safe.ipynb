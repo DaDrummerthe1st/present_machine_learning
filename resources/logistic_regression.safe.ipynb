{
 "cells": [
  {
   "metadata": {
    "collapsed": true,
    "ExecuteTime": {
     "end_time": "2025-01-27T15:23:13.207261Z",
     "start_time": "2025-01-27T15:23:12.989506Z"
    }
   },
   "cell_type": "code",
   "source": [
    "import numpy as np\n",
    "import pandas as pd\n",
    "from sklearn.model_selection import train_test_split\n",
    "from sklearn.linear_model import LogisticRegression\n",
    "from sklearn import metrics\n",
    "import matplotlib.pyplot as plt\n",
    "import seaborn as sns"
   ],
   "id": "initial_id",
   "outputs": [],
   "execution_count": 97
  },
  {
   "metadata": {
    "ExecuteTime": {
     "end_time": "2025-01-27T14:23:32.613936Z",
     "start_time": "2025-01-27T14:23:32.604039Z"
    }
   },
   "cell_type": "code",
   "source": [
    "# Categories array\n",
    "categories = [ # each category represent the ML-answer from as many separate models\n",
    "                'is_blurry',\n",
    "                'has_identified_objects',\n",
    "                'contains_common_identified_objects',\n",
    "                'contains_text',\n",
    "                'has_exif_data',\n",
    "                'is_created_at_time_near_neighbor_file',\n",
    "                'is_created_geographically_close_to_neighbor_file',\n",
    "                'seems_like_screenshot',\n",
    "                'seems_very_dark',\n",
    "                'seems_very_light',\n",
    "            ]"
   ],
   "id": "c5d84ce1a827a560",
   "outputs": [],
   "execution_count": 66
  },
  {
   "metadata": {
    "ExecuteTime": {
     "end_time": "2025-01-27T14:55:44.036492Z",
     "start_time": "2025-01-27T14:55:44.027326Z"
    }
   },
   "cell_type": "code",
   "source": [
    "# Create representation of image files\n",
    "random_array = np.random.random(size=(10000, 10))\n",
    "print(random_array)"
   ],
   "id": "4fe5805c6b00814",
   "outputs": [
    {
     "name": "stdout",
     "output_type": "stream",
     "text": [
      "[[0.70747749 0.66072782 0.57780611 ... 0.85119963 0.36016484 0.63035278]\n",
      " [0.52197547 0.54375634 0.37180225 ... 0.81113975 0.17045639 0.17536897]\n",
      " [0.92408447 0.33156122 0.07295558 ... 0.38543798 0.64525088 0.07570238]\n",
      " ...\n",
      " [0.99464429 0.93546201 0.36977525 ... 0.96248705 0.89165154 0.28549936]\n",
      " [0.51176687 0.34095275 0.58264561 ... 0.64545097 0.63037878 0.63257993]\n",
      " [0.03560563 0.08851918 0.9019421  ... 0.89487859 0.92912504 0.32854766]]\n"
     ]
    }
   ],
   "execution_count": 82
  },
  {
   "metadata": {
    "ExecuteTime": {
     "end_time": "2025-01-27T15:14:15.924198Z",
     "start_time": "2025-01-27T15:14:15.915177Z"
    }
   },
   "cell_type": "code",
   "source": [
    "# create an answer array (y)\n",
    "y = np.ndarray((10000,))\n",
    "# print(y)\n",
    "\n",
    "# y(keep=0) == file.delete()\n",
    "\n",
    "# and random_array[index][2] == 1 and random_array[index][3] < 0.3\n",
    "\n",
    "for index, answer in enumerate(y):\n",
    "    if random_array[index][0] < 0.2:\n",
    "        y[index] = 1\n",
    "        # random_array[index][10] = 1\n",
    "    else:\n",
    "        y[index] = 0\n",
    "        # random_array.append[index][10] = 0\n",
    "\n",
    "\n",
    "print(y)\n",
    "print(np.count_nonzero(y, axis=0))"
   ],
   "id": "da3c0ad4e8fb987c",
   "outputs": [
    {
     "name": "stdout",
     "output_type": "stream",
     "text": [
      "[0. 0. 0. ... 0. 0. 1.]\n",
      "1950\n"
     ]
    }
   ],
   "execution_count": 85
  },
  {
   "metadata": {},
   "cell_type": "code",
   "outputs": [],
   "execution_count": null,
   "source": [
    "# the Numpy way\n",
    "#y = (random_array[0] < 0.2 and random_array[index][2] == 1 and random_array[index][3] < 0.3)"
   ],
   "id": "fffa70e2ad02b463"
  },
  {
   "metadata": {
    "ExecuteTime": {
     "end_time": "2025-01-27T15:15:33.989871Z",
     "start_time": "2025-01-27T15:15:33.985062Z"
    }
   },
   "cell_type": "code",
   "source": [
    "# build the dataframes\n",
    "X = pd.DataFrame(random_array, columns=categories)\n",
    "# print(X) -- DONE!\n",
    "# SEries är endimensionell\n",
    "y = pd.Series(y, dtype='int8')\n",
    "print(y) #-- DONE!\n",
    "\n"
   ],
   "id": "ca3a764fdcb16347",
   "outputs": [
    {
     "name": "stdout",
     "output_type": "stream",
     "text": [
      "0       0\n",
      "1       0\n",
      "2       0\n",
      "3       1\n",
      "4       0\n",
      "       ..\n",
      "9995    0\n",
      "9996    1\n",
      "9997    0\n",
      "9998    0\n",
      "9999    1\n",
      "Length: 10000, dtype: int8\n"
     ]
    }
   ],
   "execution_count": 89
  },
  {
   "metadata": {
    "ExecuteTime": {
     "end_time": "2025-01-27T15:15:46.573025Z",
     "start_time": "2025-01-27T15:15:46.564686Z"
    }
   },
   "cell_type": "code",
   "source": [
    "# split X and y data training and testing sets\n",
    "X_train, X_test, y_train, y_test = train_test_split(X, y, test_size=0.25, random_state=16)\n"
   ],
   "id": "4e732b60f0381539",
   "outputs": [],
   "execution_count": 90
  },
  {
   "metadata": {
    "ExecuteTime": {
     "end_time": "2025-01-27T15:18:52.380931Z",
     "start_time": "2025-01-27T15:18:52.346961Z"
    }
   },
   "cell_type": "code",
   "source": [
    "# Running my first ever logistic regression\n",
    "logreg = LogisticRegression(random_state=16)\n",
    "logreg.fit(X_train, y_train)\n",
    "y_pred = logreg.predict(X_test)\n",
    "print(y_pred)\n",
    "cnf_matrix = metrics.confusion_matrix(y_test, y_pred)\n",
    "print(cnf_matrix)"
   ],
   "id": "97144de5d27bc3f7",
   "outputs": [
    {
     "name": "stdout",
     "output_type": "stream",
     "text": [
      "[0 0 0 ... 0 0 1]\n",
      "[[2026    1]\n",
      " [   3  470]]\n"
     ]
    }
   ],
   "execution_count": 94
  },
  {
   "metadata": {
    "ExecuteTime": {
     "end_time": "2025-01-27T15:24:04.325683Z",
     "start_time": "2025-01-27T15:24:04.239281Z"
    }
   },
   "cell_type": "code",
   "source": [
    "class_names=[0,1] # name  of classes\n",
    "fig, ax = plt.subplots()\n",
    "tick_marks = np.arange(len(class_names))\n",
    "plt.xticks(tick_marks, class_names)\n",
    "plt.yticks(tick_marks, class_names)\n",
    "# create heatmap\n",
    "sns.heatmap(pd.DataFrame(cnf_matrix), annot=True, cmap=\"YlGnBu\" ,fmt='g')\n",
    "ax.xaxis.set_label_position(\"top\")\n",
    "plt.tight_layout()\n",
    "plt.title('Confusion matrix', y=1.1)\n",
    "plt.ylabel('Actual label')\n",
    "plt.xlabel('Predicted label')\n"
   ],
   "id": "bed27e75667771a9",
   "outputs": [
    {
     "data": {
      "text/plain": [
       "Text(0.5, 427.9555555555555, 'Predicted label')"
      ]
     },
     "execution_count": 99,
     "metadata": {},
     "output_type": "execute_result"
    },
    {
     "data": {
      "text/plain": [
       "<Figure size 640x480 with 2 Axes>"
      ],
      "image/png": "[encoded data removed]"
     },
     "metadata": {},
     "output_type": "display_data"
    }
   ],
   "execution_count": 99
  },
  {
   "metadata": {
    "ExecuteTime": {
     "end_time": "2025-01-27T13:38:22.980148Z",
     "start_time": "2025-01-27T13:38:22.940691Z"
    }
   },
   "cell_type": "code",
   "source": [
    "# (m * n)(n * p)\n",
    "print(np.shape(X))\n",
    "print(np.shape(y))\n",
    "\n",
    "print(np.concatenate((y.T, X.T)))"
   ],
   "id": "ce050ec71424cd3e",
   "outputs": [
    {
     "name": "stdout",
     "output_type": "stream",
     "text": [
      "(10000, 10)\n",
      "(10000,)\n"
     ]
    },
    {
     "ename": "ValueError",
     "evalue": "all the input arrays must have same number of dimensions, but the array at index 0 has 2 dimension(s) and the array at index 1 has 1 dimension(s)",
     "output_type": "error",
     "traceback": [
      "\u001B[0;31m---------------------------------------------------------------------------\u001B[0m",
      "\u001B[0;31mValueError\u001B[0m                                Traceback (most recent call last)",
      "Cell \u001B[0;32mIn[52], line 5\u001B[0m\n\u001B[1;32m      2\u001B[0m \u001B[38;5;28mprint\u001B[39m(np\u001B[38;5;241m.\u001B[39mshape(X))\n\u001B[1;32m      3\u001B[0m \u001B[38;5;28mprint\u001B[39m(np\u001B[38;5;241m.\u001B[39mshape(y\u001B[38;5;241m.\u001B[39mT))\n\u001B[0;32m----> 5\u001B[0m \u001B[38;5;28mprint\u001B[39m(\u001B[43mnp\u001B[49m\u001B[38;5;241;43m.\u001B[39;49m\u001B[43mconcatenate\u001B[49m\u001B[43m(\u001B[49m\u001B[43m(\u001B[49m\u001B[43mX\u001B[49m\u001B[43m,\u001B[49m\u001B[43m \u001B[49m\u001B[43my\u001B[49m\u001B[38;5;241;43m.\u001B[39;49m\u001B[43mT\u001B[49m\u001B[43m)\u001B[49m\u001B[43m)\u001B[49m)\n",
      "\u001B[0;31mValueError\u001B[0m: all the input arrays must have same number of dimensions, but the array at index 0 has 2 dimension(s) and the array at index 1 has 1 dimension(s)"
     ]
    }
   ],
   "execution_count": 52
  },
  {
   "metadata": {
    "ExecuteTime": {
     "end_time": "2025-01-27T13:37:31.306392Z",
     "start_time": "2025-01-27T13:37:31.298859Z"
    }
   },
   "cell_type": "code",
   "source": [
    "endimensionell = np.ndarray((10,1))\n",
    "\n",
    "print(endimensionell)"
   ],
   "id": "726ac6b4dd3cc92b",
   "outputs": [
    {
     "name": "stdout",
     "output_type": "stream",
     "text": [
      "[[2.90200676e-315]\n",
      " [0.00000000e+000]\n",
      " [6.72707967e-310]\n",
      " [6.72707967e-310]\n",
      " [6.72707967e-310]\n",
      " [6.72707967e-310]\n",
      " [6.72707967e-310]\n",
      " [6.72707967e-310]\n",
      " [6.72707967e-310]\n",
      " [6.72707967e-310]]\n"
     ]
    }
   ],
   "execution_count": 48
  },
  {
   "metadata": {
    "ExecuteTime": {
     "end_time": "2025-01-27T13:59:57.870064Z",
     "start_time": "2025-01-27T13:59:57.803959Z"
    }
   },
   "cell_type": "code",
   "source": [
    "grunddata = np.array([[1,1],[10,0],[4,0]])\n",
    "print(np.shape(grunddata))\n",
    "print(grunddata)\n",
    "print(grunddata[:,1:1])\n",
    "grunddata2 = np.array([[1],[1][0]])\n",
    "\n",
    "concattat = np.concatenate((grunddata, grunddata2))"
   ],
   "id": "abcde15b82ceda6c",
   "outputs": [
    {
     "name": "stdout",
     "output_type": "stream",
     "text": [
      "(3, 2)\n",
      "[[ 1  1]\n",
      " [10  0]\n",
      " [ 4  0]]\n",
      "[]\n"
     ]
    },
    {
     "ename": "ValueError",
     "evalue": "setting an array element with a sequence. The requested array has an inhomogeneous shape after 1 dimensions. The detected shape was (2,) + inhomogeneous part.",
     "output_type": "error",
     "traceback": [
      "\u001B[0;31m---------------------------------------------------------------------------\u001B[0m",
      "\u001B[0;31mValueError\u001B[0m                                Traceback (most recent call last)",
      "Cell \u001B[0;32mIn[60], line 5\u001B[0m\n\u001B[1;32m      3\u001B[0m \u001B[38;5;28mprint\u001B[39m(grunddata)\n\u001B[1;32m      4\u001B[0m \u001B[38;5;28mprint\u001B[39m(grunddata[:,\u001B[38;5;241m1\u001B[39m:\u001B[38;5;241m1\u001B[39m])\n\u001B[0;32m----> 5\u001B[0m grunddata2 \u001B[38;5;241m=\u001B[39m \u001B[43mnp\u001B[49m\u001B[38;5;241;43m.\u001B[39;49m\u001B[43marray\u001B[49m\u001B[43m(\u001B[49m\u001B[43m[\u001B[49m\u001B[43m[\u001B[49m\u001B[38;5;241;43m1\u001B[39;49m\u001B[43m]\u001B[49m\u001B[43m,\u001B[49m\u001B[43m[\u001B[49m\u001B[38;5;241;43m1\u001B[39;49m\u001B[43m]\u001B[49m\u001B[43m[\u001B[49m\u001B[38;5;241;43m0\u001B[39;49m\u001B[43m]\u001B[49m\u001B[43m]\u001B[49m\u001B[43m)\u001B[49m\n\u001B[1;32m      7\u001B[0m concattat \u001B[38;5;241m=\u001B[39m np\u001B[38;5;241m.\u001B[39mconcatenate((grunddata, grunddata2))\n",
      "\u001B[0;31mValueError\u001B[0m: setting an array element with a sequence. The requested array has an inhomogeneous shape after 1 dimensions. The detected shape was (2,) + inhomogeneous part."
     ]
    }
   ],
   "execution_count": 60
  }
 ],
 "metadata": {
  "kernelspec": {
   "display_name": "Python 3",
   "language": "python",
   "name": "python3"
  },
  "language_info": {
   "codemirror_mode": {
    "name": "ipython",
    "version": 2
   },
   "file_extension": ".py",
   "mimetype": "text/x-python",
   "name": "python",
   "nbconvert_exporter": "python",
   "pygments_lexer": "ipython2",
   "version": "2.7.6"
  }
 },
 "nbformat": 4,
 "nbformat_minor": 5
}
