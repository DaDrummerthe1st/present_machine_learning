{
 "cells": [
  {
   "metadata": {
    "collapsed": true,
    "ExecuteTime": {
     "end_time": "2025-01-27T14:29:59.701484Z",
     "start_time": "2025-01-27T14:29:57.728539Z"
    }
   },
   "cell_type": "code",
   "source": [
    "import numpy as np\n",
    "import pandas as pd\n",
    "from sklearn.model_selection import train_test_split"
   ],
   "id": "initial_id",
   "outputs": [],
   "execution_count": 74
  },
  {
   "metadata": {
    "ExecuteTime": {
     "end_time": "2025-01-27T14:23:32.613936Z",
     "start_time": "2025-01-27T14:23:32.604039Z"
    }
   },
   "cell_type": "code",
   "source": [
    "# Categories array\n",
    "categories = [ # each category represent the ML-answer from as many separate models\n",
    "                'is_blurry',\n",
    "                'has_identified_objects',\n",
    "                'contains_common_identified_objects',\n",
    "                'contains_text',\n",
    "                'has_exif_data',\n",
    "                'is_created_at_time_near_neighbor_file',\n",
    "                'is_created_geographically_close_to_neighbor_file',\n",
    "                'seems_like_screenshot',\n",
    "                'seems_very_dark',\n",
    "                'seems_very_light',\n",
    "            ]"
   ],
   "id": "c5d84ce1a827a560",
   "outputs": [],
   "execution_count": 66
  },
  {
   "metadata": {
    "ExecuteTime": {
     "end_time": "2025-01-27T14:23:38.569796Z",
     "start_time": "2025-01-27T14:23:38.555842Z"
    }
   },
   "cell_type": "code",
   "source": [
    "# Create representation of image files\n",
    "random_array = np.random.choice([0,1],size=(10000, 10))\n",
    "print(random_array)"
   ],
   "id": "4fe5805c6b00814",
   "outputs": [
    {
     "name": "stdout",
     "output_type": "stream",
     "text": [
      "[[0 1 1 ... 1 0 0]\n",
      " [1 0 1 ... 0 0 0]\n",
      " [1 1 0 ... 1 0 0]\n",
      " ...\n",
      " [1 1 0 ... 0 0 1]\n",
      " [1 0 1 ... 1 0 0]\n",
      " [1 1 0 ... 1 1 1]]\n"
     ]
    }
   ],
   "execution_count": 67
  },
  {
   "metadata": {
    "ExecuteTime": {
     "end_time": "2025-01-27T14:23:49.895308Z",
     "start_time": "2025-01-27T14:23:49.801709Z"
    }
   },
   "cell_type": "code",
   "source": [
    "# create an answer array (y)\n",
    "y = np.ndarray((10000,1))\n",
    "# print(y)\n",
    "\n",
    "# y(keep=0) == file.delete()\n",
    "\n",
    "for index, answer in enumerate(y):\n",
    "    if random_array[index][0] < 0.2 and random_array[index][2] == 1 and random_array[index][3] < 0.3:\n",
    "        y[index] = 1\n",
    "    else:\n",
    "        y[index] = 0\n",
    "\n",
    "print(np.count_nonzero(y, axis=0))"
   ],
   "id": "da3c0ad4e8fb987c",
   "outputs": [
    {
     "name": "stdout",
     "output_type": "stream",
     "text": [
      "[1172]\n"
     ]
    }
   ],
   "execution_count": 68
  },
  {
   "metadata": {
    "ExecuteTime": {
     "end_time": "2025-01-27T14:25:34.625364Z",
     "start_time": "2025-01-27T14:25:34.607445Z"
    }
   },
   "cell_type": "code",
   "source": [
    "# build the dataframes\n",
    "X = pd.DataFrame(random_array, columns=categories)\n",
    "# print(X) -- DONE!\n",
    "y = pd.DataFrame(y, columns=['Keep_or_Throw'])\n",
    "# print(y) -- DONE!"
   ],
   "id": "ca3a764fdcb16347",
   "outputs": [
    {
     "name": "stdout",
     "output_type": "stream",
     "text": [
      "      Keep_or_Throw\n",
      "0               0.0\n",
      "1               0.0\n",
      "2               0.0\n",
      "3               0.0\n",
      "4               0.0\n",
      "...             ...\n",
      "9995            0.0\n",
      "9996            1.0\n",
      "9997            0.0\n",
      "9998            0.0\n",
      "9999            0.0\n",
      "\n",
      "[10000 rows x 1 columns]\n"
     ]
    }
   ],
   "execution_count": 71
  },
  {
   "metadata": {
    "ExecuteTime": {
     "end_time": "2025-01-27T14:26:42.327923Z",
     "start_time": "2025-01-27T14:26:42.297466Z"
    }
   },
   "cell_type": "code",
   "source": [
    "# split X and y data training and testing sets\n",
    "X_train, X_test, y_train, y_test = train_test_split(X, y, test_size=0.2, random_state=42)\n"
   ],
   "id": "4e732b60f0381539",
   "outputs": [
    {
     "ename": "AttributeError",
     "evalue": "'DataFrame' object has no attribute 'label'",
     "output_type": "error",
     "traceback": [
      "\u001B[0;31m---------------------------------------------------------------------------\u001B[0m",
      "\u001B[0;31mAttributeError\u001B[0m                            Traceback (most recent call last)",
      "\u001B[0;32m/tmp/ipykernel_7478/322882485.py\u001B[0m in \u001B[0;36m?\u001B[0;34m()\u001B[0m\n\u001B[0;32m----> 1\u001B[0;31m \u001B[0mprint\u001B[0m\u001B[0;34m(\u001B[0m\u001B[0my\u001B[0m\u001B[0;34m.\u001B[0m\u001B[0mlabel\u001B[0m\u001B[0;34m)\u001B[0m\u001B[0;34m\u001B[0m\u001B[0;34m\u001B[0m\u001B[0m\n\u001B[0m",
      "\u001B[0;32m~/utbildning/data24hel/kurser/data_science/code/inlämning/uppgift_3/present_machine_learning/.venv/lib/python3.12/site-packages/pandas/core/generic.py\u001B[0m in \u001B[0;36m?\u001B[0;34m(self, name)\u001B[0m\n\u001B[1;32m   6295\u001B[0m             \u001B[0;32mand\u001B[0m \u001B[0mname\u001B[0m \u001B[0;32mnot\u001B[0m \u001B[0;32min\u001B[0m \u001B[0mself\u001B[0m\u001B[0;34m.\u001B[0m\u001B[0m_accessors\u001B[0m\u001B[0;34m\u001B[0m\u001B[0;34m\u001B[0m\u001B[0m\n\u001B[1;32m   6296\u001B[0m             \u001B[0;32mand\u001B[0m \u001B[0mself\u001B[0m\u001B[0;34m.\u001B[0m\u001B[0m_info_axis\u001B[0m\u001B[0;34m.\u001B[0m\u001B[0m_can_hold_identifiers_and_holds_name\u001B[0m\u001B[0;34m(\u001B[0m\u001B[0mname\u001B[0m\u001B[0;34m)\u001B[0m\u001B[0;34m\u001B[0m\u001B[0;34m\u001B[0m\u001B[0m\n\u001B[1;32m   6297\u001B[0m         \u001B[0;34m)\u001B[0m\u001B[0;34m:\u001B[0m\u001B[0;34m\u001B[0m\u001B[0;34m\u001B[0m\u001B[0m\n\u001B[1;32m   6298\u001B[0m             \u001B[0;32mreturn\u001B[0m \u001B[0mself\u001B[0m\u001B[0;34m[\u001B[0m\u001B[0mname\u001B[0m\u001B[0;34m]\u001B[0m\u001B[0;34m\u001B[0m\u001B[0;34m\u001B[0m\u001B[0m\n\u001B[0;32m-> 6299\u001B[0;31m         \u001B[0;32mreturn\u001B[0m \u001B[0mobject\u001B[0m\u001B[0;34m.\u001B[0m\u001B[0m__getattribute__\u001B[0m\u001B[0;34m(\u001B[0m\u001B[0mself\u001B[0m\u001B[0;34m,\u001B[0m \u001B[0mname\u001B[0m\u001B[0;34m)\u001B[0m\u001B[0;34m\u001B[0m\u001B[0;34m\u001B[0m\u001B[0m\n\u001B[0m",
      "\u001B[0;31mAttributeError\u001B[0m: 'DataFrame' object has no attribute 'label'"
     ]
    }
   ],
   "execution_count": 72
  },
  {
   "metadata": {
    "ExecuteTime": {
     "end_time": "2025-01-27T13:38:22.980148Z",
     "start_time": "2025-01-27T13:38:22.940691Z"
    }
   },
   "cell_type": "code",
   "source": [
    "# (m * n)(n * p)\n",
    "print(np.shape(X))\n",
    "print(np.shape(y))\n",
    "\n",
    "print(np.concatenate((y.T, X.T)))"
   ],
   "id": "ce050ec71424cd3e",
   "outputs": [
    {
     "name": "stdout",
     "output_type": "stream",
     "text": [
      "(10000, 10)\n",
      "(10000,)\n"
     ]
    },
    {
     "ename": "ValueError",
     "evalue": "all the input arrays must have same number of dimensions, but the array at index 0 has 2 dimension(s) and the array at index 1 has 1 dimension(s)",
     "output_type": "error",
     "traceback": [
      "\u001B[0;31m---------------------------------------------------------------------------\u001B[0m",
      "\u001B[0;31mValueError\u001B[0m                                Traceback (most recent call last)",
      "Cell \u001B[0;32mIn[52], line 5\u001B[0m\n\u001B[1;32m      2\u001B[0m \u001B[38;5;28mprint\u001B[39m(np\u001B[38;5;241m.\u001B[39mshape(X))\n\u001B[1;32m      3\u001B[0m \u001B[38;5;28mprint\u001B[39m(np\u001B[38;5;241m.\u001B[39mshape(y\u001B[38;5;241m.\u001B[39mT))\n\u001B[0;32m----> 5\u001B[0m \u001B[38;5;28mprint\u001B[39m(\u001B[43mnp\u001B[49m\u001B[38;5;241;43m.\u001B[39;49m\u001B[43mconcatenate\u001B[49m\u001B[43m(\u001B[49m\u001B[43m(\u001B[49m\u001B[43mX\u001B[49m\u001B[43m,\u001B[49m\u001B[43m \u001B[49m\u001B[43my\u001B[49m\u001B[38;5;241;43m.\u001B[39;49m\u001B[43mT\u001B[49m\u001B[43m)\u001B[49m\u001B[43m)\u001B[49m)\n",
      "\u001B[0;31mValueError\u001B[0m: all the input arrays must have same number of dimensions, but the array at index 0 has 2 dimension(s) and the array at index 1 has 1 dimension(s)"
     ]
    }
   ],
   "execution_count": 52
  },
  {
   "metadata": {
    "ExecuteTime": {
     "end_time": "2025-01-27T13:37:31.306392Z",
     "start_time": "2025-01-27T13:37:31.298859Z"
    }
   },
   "cell_type": "code",
   "source": [
    "endimensionell = np.ndarray((10,1))\n",
    "\n",
    "print(endimensionell)"
   ],
   "id": "726ac6b4dd3cc92b",
   "outputs": [
    {
     "name": "stdout",
     "output_type": "stream",
     "text": [
      "[[2.90200676e-315]\n",
      " [0.00000000e+000]\n",
      " [6.72707967e-310]\n",
      " [6.72707967e-310]\n",
      " [6.72707967e-310]\n",
      " [6.72707967e-310]\n",
      " [6.72707967e-310]\n",
      " [6.72707967e-310]\n",
      " [6.72707967e-310]\n",
      " [6.72707967e-310]]\n"
     ]
    }
   ],
   "execution_count": 48
  },
  {
   "metadata": {
    "ExecuteTime": {
     "end_time": "2025-01-27T13:59:57.870064Z",
     "start_time": "2025-01-27T13:59:57.803959Z"
    }
   },
   "cell_type": "code",
   "source": [
    "grunddata = np.array([[1,1],[10,0],[4,0]])\n",
    "print(np.shape(grunddata))\n",
    "print(grunddata)\n",
    "print(grunddata[:,1:1])\n",
    "grunddata2 = np.array([[1],[1][0]])\n",
    "\n",
    "concattat = np.concatenate((grunddata, grunddata2))"
   ],
   "id": "abcde15b82ceda6c",
   "outputs": [
    {
     "name": "stdout",
     "output_type": "stream",
     "text": [
      "(3, 2)\n",
      "[[ 1  1]\n",
      " [10  0]\n",
      " [ 4  0]]\n",
      "[]\n"
     ]
    },
    {
     "ename": "ValueError",
     "evalue": "setting an array element with a sequence. The requested array has an inhomogeneous shape after 1 dimensions. The detected shape was (2,) + inhomogeneous part.",
     "output_type": "error",
     "traceback": [
      "\u001B[0;31m---------------------------------------------------------------------------\u001B[0m",
      "\u001B[0;31mValueError\u001B[0m                                Traceback (most recent call last)",
      "Cell \u001B[0;32mIn[60], line 5\u001B[0m\n\u001B[1;32m      3\u001B[0m \u001B[38;5;28mprint\u001B[39m(grunddata)\n\u001B[1;32m      4\u001B[0m \u001B[38;5;28mprint\u001B[39m(grunddata[:,\u001B[38;5;241m1\u001B[39m:\u001B[38;5;241m1\u001B[39m])\n\u001B[0;32m----> 5\u001B[0m grunddata2 \u001B[38;5;241m=\u001B[39m \u001B[43mnp\u001B[49m\u001B[38;5;241;43m.\u001B[39;49m\u001B[43marray\u001B[49m\u001B[43m(\u001B[49m\u001B[43m[\u001B[49m\u001B[43m[\u001B[49m\u001B[38;5;241;43m1\u001B[39;49m\u001B[43m]\u001B[49m\u001B[43m,\u001B[49m\u001B[43m[\u001B[49m\u001B[38;5;241;43m1\u001B[39;49m\u001B[43m]\u001B[49m\u001B[43m[\u001B[49m\u001B[38;5;241;43m0\u001B[39;49m\u001B[43m]\u001B[49m\u001B[43m]\u001B[49m\u001B[43m)\u001B[49m\n\u001B[1;32m      7\u001B[0m concattat \u001B[38;5;241m=\u001B[39m np\u001B[38;5;241m.\u001B[39mconcatenate((grunddata, grunddata2))\n",
      "\u001B[0;31mValueError\u001B[0m: setting an array element with a sequence. The requested array has an inhomogeneous shape after 1 dimensions. The detected shape was (2,) + inhomogeneous part."
     ]
    }
   ],
   "execution_count": 60
  }
 ],
 "metadata": {
  "kernelspec": {
   "display_name": "Python 3",
   "language": "python",
   "name": "python3"
  },
  "language_info": {
   "codemirror_mode": {
    "name": "ipython",
    "version": 2
   },
   "file_extension": ".py",
   "mimetype": "text/x-python",
   "name": "python",
   "nbconvert_exporter": "python",
   "pygments_lexer": "ipython2",
   "version": "2.7.6"
  }
 },
 "nbformat": 4,
 "nbformat_minor": 5
}
