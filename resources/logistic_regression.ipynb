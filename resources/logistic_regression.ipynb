{
 "cells": [
  {
   "metadata": {
    "collapsed": true,
    "ExecuteTime": {
     "end_time": "2025-01-30T03:31:44.954014Z",
     "start_time": "2025-01-30T03:31:44.886571Z"
    }
   },
   "cell_type": "code",
   "source": [
    "import numpy as np\n",
    "import pandas as pd\n",
    "from sklearn.model_selection import train_test_split\n",
    "from sklearn.linear_model import LogisticRegression\n",
    "from sklearn import metrics\n",
    "import matplotlib.pyplot as plt\n",
    "import seaborn as sns"
   ],
   "id": "initial_id",
   "outputs": [],
   "execution_count": 1
  },
  {
   "metadata": {
    "ExecuteTime": {
     "end_time": "2025-01-30T03:32:05.593341Z",
     "start_time": "2025-01-30T03:32:05.591011Z"
    }
   },
   "cell_type": "code",
   "source": [
    "# Categories array\n",
    "categories = [ # each category represent the ML-answer from as many separate models\n",
    "                'is_blurry',\n",
    "                'has_identified_objects',\n",
    "                'contains_common_identified_objects',\n",
    "                'contains_text',\n",
    "                'has_exif_data',\n",
    "                'is_created_at_time_near_neighbor_file',\n",
    "                'is_created_geographically_close_to_neighbor_file',\n",
    "                'seems_like_screenshot',\n",
    "                'seems_very_dark',\n",
    "                'seems_very_light',\n",
    "            ]"
   ],
   "id": "c5d84ce1a827a560",
   "outputs": [],
   "execution_count": 2
  },
  {
   "metadata": {
    "ExecuteTime": {
     "end_time": "2025-01-30T03:32:09.015814Z",
     "start_time": "2025-01-30T03:32:09.010938Z"
    }
   },
   "cell_type": "code",
   "source": [
    "# Create representation of image files\n",
    "random_array = np.random.random(size=(10000, 10))\n",
    "print(random_array)"
   ],
   "id": "4fe5805c6b00814",
   "outputs": [
    {
     "name": "stdout",
     "output_type": "stream",
     "text": [
      "[[0.04579848 0.12239048 0.36434068 ... 0.6686866  0.35346829 0.07544507]\n",
      " [0.5947305  0.45509017 0.52679154 ... 0.28350366 0.87365499 0.80122719]\n",
      " [0.919684   0.40323375 0.25454853 ... 0.02096073 0.56840596 0.8168616 ]\n",
      " ...\n",
      " [0.0186498  0.79199907 0.91663278 ... 0.54532074 0.7396726  0.39054819]\n",
      " [0.4800023  0.66763854 0.05537636 ... 0.47133828 0.36840991 0.16743364]\n",
      " [0.87375913 0.31678312 0.04213865 ... 0.92070838 0.13329022 0.63961024]]\n"
     ]
    }
   ],
   "execution_count": 3
  },
  {
   "metadata": {
    "ExecuteTime": {
     "end_time": "2025-01-30T03:32:15.347323Z",
     "start_time": "2025-01-30T03:32:15.336782Z"
    }
   },
   "cell_type": "code",
   "source": [
    "# create an answer array (y)\n",
    "y = np.ndarray((10000,))\n",
    "# print(y)\n",
    "\n",
    "# y(keep=0) == file.delete()\n",
    "\n",
    "# and random_array[index][2] == 1 and random_array[index][3] < 0.3\n",
    "\n",
    "for index, answer in enumerate(y):\n",
    "    if random_array[index][0] < 0.2:\n",
    "        y[index] = 1\n",
    "        # random_array[index][10] = 1\n",
    "    else:\n",
    "        y[index] = 0\n",
    "        # random_array.append[index][10] = 0\n",
    "\n",
    "\n",
    "print(y)\n",
    "print(np.count_nonzero(y, axis=0))"
   ],
   "id": "da3c0ad4e8fb987c",
   "outputs": [
    {
     "name": "stdout",
     "output_type": "stream",
     "text": [
      "[1. 0. 0. ... 1. 0. 0.]\n",
      "2028\n"
     ]
    }
   ],
   "execution_count": 4
  },
  {
   "metadata": {},
   "cell_type": "code",
   "source": [
    "# the Numpy way\n",
    "#y = (random_array[0] < 0.2 and random_array[index][2] == 1 and random_array[index][3] < 0.3)"
   ],
   "id": "fffa70e2ad02b463",
   "outputs": [],
   "execution_count": null
  },
  {
   "metadata": {
    "ExecuteTime": {
     "end_time": "2025-01-30T03:32:30.882963Z",
     "start_time": "2025-01-30T03:32:30.874323Z"
    }
   },
   "cell_type": "code",
   "source": [
    "# build the dataframes\n",
    "X = pd.DataFrame(random_array, columns=categories)\n",
    "# print(X) -- DONE!\n",
    "# SEries är endimensionell\n",
    "y = pd.Series(y, dtype='int8')\n",
    "print(y) #-- DONE!\n",
    "\n"
   ],
   "id": "ca3a764fdcb16347",
   "outputs": [
    {
     "name": "stdout",
     "output_type": "stream",
     "text": [
      "0       1\n",
      "1       0\n",
      "2       0\n",
      "3       0\n",
      "4       0\n",
      "       ..\n",
      "9995    0\n",
      "9996    1\n",
      "9997    1\n",
      "9998    0\n",
      "9999    0\n",
      "Length: 10000, dtype: int8\n"
     ]
    }
   ],
   "execution_count": 5
  },
  {
   "metadata": {
    "ExecuteTime": {
     "end_time": "2025-01-30T03:32:57.587706Z",
     "start_time": "2025-01-30T03:32:57.578911Z"
    }
   },
   "cell_type": "code",
   "source": [
    "# split X and y data training and testing sets\n",
    "X_train, X_test, y_train, y_test = train_test_split(X, y, test_size=0.25, random_state=16)\n"
   ],
   "id": "4e732b60f0381539",
   "outputs": [],
   "execution_count": 6
  },
  {
   "metadata": {
    "ExecuteTime": {
     "end_time": "2025-01-30T03:33:16.182311Z",
     "start_time": "2025-01-30T03:33:16.162496Z"
    }
   },
   "cell_type": "code",
   "source": [
    "# Running my first ever logistic regression\n",
    "logreg = LogisticRegression(random_state=16)\n",
    "logreg.fit(X_train, y_train)\n",
    "y_pred = logreg.predict(X_test)\n",
    "print(y_pred)\n",
    "cnf_matrix = metrics.confusion_matrix(y_test, y_pred)\n",
    "print(cnf_matrix)"
   ],
   "id": "97144de5d27bc3f7",
   "outputs": [
    {
     "name": "stdout",
     "output_type": "stream",
     "text": [
      "[0 1 0 ... 0 0 1]\n",
      "[[2017    1]\n",
      " [   8  474]]\n"
     ]
    }
   ],
   "execution_count": 7
  },
  {
   "metadata": {
    "ExecuteTime": {
     "end_time": "2025-01-30T03:33:52.776175Z",
     "start_time": "2025-01-30T03:33:52.672381Z"
    }
   },
   "cell_type": "code",
   "source": [
    "# prepare heatmap\n",
    "class_names=[0,1] # name  of classes\n",
    "fig, ax = plt.subplots()\n",
    "tick_marks = np.arange(len(class_names))\n",
    "plt.xticks(tick_marks, class_names)\n",
    "plt.yticks(tick_marks, class_names)\n",
    "# draw heatmap\n",
    "sns.heatmap(pd.DataFrame(cnf_matrix), annot=True, cmap=\"YlGnBu\" ,fmt='g')\n",
    "ax.xaxis.set_label_position(\"top\")\n",
    "plt.tight_layout()\n",
    "plt.title('Confusion matrix', y=1.1)\n",
    "plt.ylabel('Actual label')\n",
    "plt.xlabel('Predicted label')\n"
   ],
   "id": "bed27e75667771a9",
   "outputs": [
    {
     "data": {
      "text/plain": [
       "Text(0.5, 427.9555555555555, 'Predicted label')"
      ]
     },
     "execution_count": 8,
     "metadata": {},
     "output_type": "execute_result"
    },
    {
     "data": {
      "text/plain": [
       "<Figure size 640x480 with 2 Axes>"
      ],
      "image/png": "[encoded data removed]"
     },
     "metadata": {},
     "output_type": "display_data"
    }
   ],
   "execution_count": 8
  },
  {
   "metadata": {
    "ExecuteTime": {
     "end_time": "2025-01-30T03:34:42.774967Z",
     "start_time": "2025-01-30T03:34:42.772219Z"
    }
   },
   "cell_type": "code",
   "source": [
    "# (m * n)(n * p)\n",
    "print(np.shape(X))\n",
    "print(np.shape(y))"
   ],
   "id": "ce050ec71424cd3e",
   "outputs": [
    {
     "name": "stdout",
     "output_type": "stream",
     "text": [
      "(10000, 10)\n",
      "(10000,)\n"
     ]
    }
   ],
   "execution_count": 10
  },
  {
   "metadata": {},
   "cell_type": "code",
   "source": [
    "endimensionell = np.ndarray((10,1))\n",
    "\n",
    "print(endimensionell)"
   ],
   "id": "726ac6b4dd3cc92b",
   "outputs": [],
   "execution_count": null
  },
  {
   "metadata": {
    "ExecuteTime": {
     "end_time": "2025-01-30T03:35:40.003288Z",
     "start_time": "2025-01-30T03:35:39.984811Z"
    }
   },
   "cell_type": "code",
   "source": [
    "grunddata = np.array([[1,1],[10,0],[4,0]])\n",
    "print(np.shape(grunddata))\n",
    "print(grunddata)\n",
    "print(grunddata[:,1:1])\n",
    "grunddata2 = np.array([[1],[1][0]])\n",
    "\n",
    "concattat = np.concatenate((grunddata, grunddata2))"
   ],
   "id": "abcde15b82ceda6c",
   "outputs": [
    {
     "name": "stdout",
     "output_type": "stream",
     "text": [
      "(3, 2)\n",
      "[[ 1  1]\n",
      " [10  0]\n",
      " [ 4  0]]\n",
      "[]\n"
     ]
    },
    {
     "ename": "ValueError",
     "evalue": "setting an array element with a sequence. The requested array has an inhomogeneous shape after 1 dimensions. The detected shape was (2,) + inhomogeneous part.",
     "output_type": "error",
     "traceback": [
      "\u001B[0;31m---------------------------------------------------------------------------\u001B[0m",
      "\u001B[0;31mValueError\u001B[0m                                Traceback (most recent call last)",
      "Cell \u001B[0;32mIn[11], line 5\u001B[0m\n\u001B[1;32m      3\u001B[0m \u001B[38;5;28mprint\u001B[39m(grunddata)\n\u001B[1;32m      4\u001B[0m \u001B[38;5;28mprint\u001B[39m(grunddata[:,\u001B[38;5;241m1\u001B[39m:\u001B[38;5;241m1\u001B[39m])\n\u001B[0;32m----> 5\u001B[0m grunddata2 \u001B[38;5;241m=\u001B[39m \u001B[43mnp\u001B[49m\u001B[38;5;241;43m.\u001B[39;49m\u001B[43marray\u001B[49m\u001B[43m(\u001B[49m\u001B[43m[\u001B[49m\u001B[43m[\u001B[49m\u001B[38;5;241;43m1\u001B[39;49m\u001B[43m]\u001B[49m\u001B[43m,\u001B[49m\u001B[43m[\u001B[49m\u001B[38;5;241;43m1\u001B[39;49m\u001B[43m]\u001B[49m\u001B[43m[\u001B[49m\u001B[38;5;241;43m0\u001B[39;49m\u001B[43m]\u001B[49m\u001B[43m]\u001B[49m\u001B[43m)\u001B[49m\n\u001B[1;32m      7\u001B[0m concattat \u001B[38;5;241m=\u001B[39m np\u001B[38;5;241m.\u001B[39mconcatenate((grunddata, grunddata2))\n",
      "\u001B[0;31mValueError\u001B[0m: setting an array element with a sequence. The requested array has an inhomogeneous shape after 1 dimensions. The detected shape was (2,) + inhomogeneous part."
     ]
    }
   ],
   "execution_count": 11
  }
 ],
 "metadata": {
  "kernelspec": {
   "display_name": "Python 3",
   "language": "python",
   "name": "python3"
  },
  "language_info": {
   "codemirror_mode": {
    "name": "ipython",
    "version": 2
   },
   "file_extension": ".py",
   "mimetype": "text/x-python",
   "name": "python",
   "nbconvert_exporter": "python",
   "pygments_lexer": "ipython2",
   "version": "2.7.6"
  }
 },
 "nbformat": 4,
 "nbformat_minor": 5
}
