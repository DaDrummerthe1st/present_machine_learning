{
 "cells": [
  {
   "metadata": {
    "collapsed": true
   },
   "cell_type": "code",
   "source": [
    "import numpy as np\n",
    "import pandas as pd\n",
    "from sklearn.model_selection import train_test_split\n",
    "from sklearn.linear_model import LogisticRegression\n",
    "from sklearn import metrics\n",
    "import matplotlib.pyplot as plt\n",
    "import seaborn as sns"
   ],
   "id": "initial_id",
   "outputs": [],
   "execution_count": null
  },
  {
   "metadata": {},
   "cell_type": "code",
   "source": [
    "# Categories array\n",
    "categories = [ # each category represent the ML-answer from as many separate models\n",
    "                'is_blurry',\n",
    "                'has_identified_objects',\n",
    "                'contains_common_identified_objects',\n",
    "                'contains_text',\n",
    "                'has_exif_data',\n",
    "                'is_created_at_time_near_neighbor_file',\n",
    "                'is_created_geographically_close_to_neighbor_file',\n",
    "                'seems_like_screenshot',\n",
    "                'seems_very_dark',\n",
    "                'seems_very_light',\n",
    "            ]"
   ],
   "id": "c5d84ce1a827a560",
   "outputs": [],
   "execution_count": null
  },
  {
   "metadata": {},
   "cell_type": "code",
   "source": [
    "# Create representation of image files\n",
    "random_array = np.random.random(size=(10000, 10))\n",
    "print(random_array)"
   ],
   "id": "4fe5805c6b00814",
   "outputs": [],
   "execution_count": null
  },
  {
   "metadata": {},
   "cell_type": "code",
   "source": [
    "# create an answer array (y)\n",
    "y = np.ndarray((10000,))\n",
    "# print(y)\n",
    "\n",
    "# y(keep=0) == file.delete()\n",
    "\n",
    "# and random_array[index][2] == 1 and random_array[index][3] < 0.3\n",
    "\n",
    "for index, answer in enumerate(y):\n",
    "    if random_array[index][0] < 0.2:\n",
    "        y[index] = 1\n",
    "        # random_array[index][10] = 1\n",
    "    else:\n",
    "        y[index] = 0\n",
    "        # random_array.append[index][10] = 0\n",
    "\n",
    "\n",
    "print(y)\n",
    "print(np.count_nonzero(y, axis=0))"
   ],
   "id": "da3c0ad4e8fb987c",
   "outputs": [],
   "execution_count": null
  },
  {
   "metadata": {},
   "cell_type": "code",
   "source": [
    "# the Numpy way\n",
    "#y = (random_array[0] < 0.2 and random_array[index][2] == 1 and random_array[index][3] < 0.3)"
   ],
   "id": "fffa70e2ad02b463",
   "outputs": [],
   "execution_count": null
  },
  {
   "metadata": {},
   "cell_type": "code",
   "source": [
    "# build the dataframes\n",
    "X = pd.DataFrame(random_array, columns=categories)\n",
    "# print(X) -- DONE!\n",
    "# SEries är endimensionell\n",
    "y = pd.Series(y, dtype='int8')\n",
    "print(y) #-- DONE!\n",
    "\n"
   ],
   "id": "ca3a764fdcb16347",
   "outputs": [],
   "execution_count": null
  },
  {
   "metadata": {},
   "cell_type": "code",
   "source": [
    "# split X and y data training and testing sets\n",
    "X_train, X_test, y_train, y_test = train_test_split(X, y, test_size=0.25, random_state=16)\n"
   ],
   "id": "4e732b60f0381539",
   "outputs": [],
   "execution_count": null
  },
  {
   "metadata": {},
   "cell_type": "code",
   "source": [
    "# Running my first ever logistic regression\n",
    "logreg = LogisticRegression(random_state=16)\n",
    "logreg.fit(X_train, y_train)\n",
    "y_pred = logreg.predict(X_test)\n",
    "print(y_pred)\n",
    "cnf_matrix = metrics.confusion_matrix(y_test, y_pred)\n",
    "print(cnf_matrix)"
   ],
   "id": "97144de5d27bc3f7",
   "outputs": [],
   "execution_count": null
  },
  {
   "metadata": {},
   "cell_type": "code",
   "source": [
    "# prepare heatmap\n",
    "class_names=[0,1] # name  of classes\n",
    "fig, ax = plt.subplots()\n",
    "tick_marks = np.arange(len(class_names))\n",
    "plt.xticks(tick_marks, class_names)\n",
    "plt.yticks(tick_marks, class_names)\n",
    "# draw heatmap\n",
    "sns.heatmap(pd.DataFrame(cnf_matrix), annot=True, cmap=\"YlGnBu\" ,fmt='g')\n",
    "ax.xaxis.set_label_position(\"top\")\n",
    "plt.tight_layout()\n",
    "plt.title('Confusion matrix', y=1.1)\n",
    "plt.ylabel('Actual label')\n",
    "plt.xlabel('Predicted label')\n"
   ],
   "id": "bed27e75667771a9",
   "outputs": [],
   "execution_count": null
  },
  {
   "metadata": {},
   "cell_type": "code",
   "source": [
    "# (m * n)(n * p)\n",
    "print(np.shape(X))\n",
    "print(np.shape(y))"
   ],
   "id": "ce050ec71424cd3e",
   "outputs": [],
   "execution_count": null
  },
  {
   "metadata": {},
   "cell_type": "code",
   "source": [
    "endimensionell = np.ndarray((10,1))\n",
    "\n",
    "print(endimensionell)"
   ],
   "id": "726ac6b4dd3cc92b",
   "outputs": [],
   "execution_count": null
  },
  {
   "metadata": {},
   "cell_type": "code",
   "source": [
    "grunddata = np.array([[1,1],[10,0],[4,0]])\n",
    "print(np.shape(grunddata))\n",
    "print(grunddata)\n",
    "print(grunddata[:,1:1])\n",
    "grunddata2 = np.array([[1],[1][0]])\n",
    "\n",
    "concattat = np.concatenate((grunddata, grunddata2))"
   ],
   "id": "abcde15b82ceda6c",
   "outputs": [],
   "execution_count": null
  }
 ],
 "metadata": {
  "kernelspec": {
   "display_name": "Python 3",
   "language": "python",
   "name": "python3"
  },
  "language_info": {
   "codemirror_mode": {
    "name": "ipython",
    "version": 2
   },
   "file_extension": ".py",
   "mimetype": "text/x-python",
   "name": "python",
   "nbconvert_exporter": "python",
   "pygments_lexer": "ipython2",
   "version": "2.7.6"
  }
 },
 "nbformat": 4,
 "nbformat_minor": 5
}
