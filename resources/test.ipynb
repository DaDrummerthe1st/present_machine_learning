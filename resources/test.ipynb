{
 "cells": [
  {
   "metadata": {
    "ExecuteTime": {
     "end_time": "2025-01-29T13:01:35.563706Z",
     "start_time": "2025-01-29T13:01:35.557421Z"
    }
   },
   "cell_type": "code",
   "source": "import numpy as np",
   "outputs": [],
   "execution_count": 2
  },
  {
   "metadata": {
    "ExecuteTime": {
     "end_time": "2025-01-27T12:54:05.064428Z",
     "start_time": "2025-01-27T12:54:04.885962Z"
    }
   },
   "cell_type": "code",
   "source": "",
   "outputs": [
    {
     "name": "stdout",
     "output_type": "stream",
     "text": [
      "[[0 0 1 ... 0 0 0]\n",
      " [0 1 0 ... 1 0 0]\n",
      " [1 0 0 ... 1 1 1]\n",
      " ...\n",
      " [1 1 1 ... 1 0 0]\n",
      " [0 1 1 ... 1 1 0]\n",
      " [1 1 0 ... 1 1 1]]\n"
     ]
    }
   ],
   "execution_count": 1
  },
  {
   "cell_type": "code",
   "metadata": {
    "ExecuteTime": {
     "end_time": "2025-01-27T12:54:39.206751Z",
     "start_time": "2025-01-27T12:54:38.418387Z"
    }
   },
   "source": [
    "import pandas as pd\n",
    "import numpy as np\n",
    "import random\n",
    "\n",
    "source_data_df = pd.DataFrame(np.random.randint(0,high=2,size=(10000, 10)))\n",
    "source_data_pd = np.random.choice([0,1], size=(10000,10))\n",
    "print(source_data_df)\n",
    "print(source_data_pd)"
   ],
   "outputs": [
    {
     "name": "stdout",
     "output_type": "stream",
     "text": [
      "      0  1  2  3  4  5  6  7  8  9\n",
      "0     1  1  0  0  1  1  0  0  0  0\n",
      "1     0  0  1  1  1  1  1  1  0  0\n",
      "2     0  1  0  0  0  1  1  0  0  0\n",
      "3     0  0  0  0  1  0  1  0  0  1\n",
      "4     0  0  1  1  1  0  0  1  0  1\n",
      "...  .. .. .. .. .. .. .. .. .. ..\n",
      "9995  0  1  1  0  0  0  0  1  1  0\n",
      "9996  1  0  0  1  0  0  0  1  0  1\n",
      "9997  1  0  1  1  1  0  1  1  0  1\n",
      "9998  1  0  1  0  0  0  1  0  1  1\n",
      "9999  1  1  0  1  1  0  1  0  0  0\n",
      "\n",
      "[10000 rows x 10 columns]\n",
      "[[1 1 1 ... 0 1 1]\n",
      " [0 0 1 ... 1 1 1]\n",
      " [1 1 1 ... 1 0 0]\n",
      " ...\n",
      " [0 0 0 ... 0 1 0]\n",
      " [0 0 1 ... 1 1 1]\n",
      " [0 1 0 ... 1 0 1]]\n"
     ]
    }
   ],
   "execution_count": 2
  },
  {
   "cell_type": "code",
   "execution_count": 3,
   "metadata": {},
   "outputs": [
    {
     "name": "stdout",
     "output_type": "stream",
     "text": [
      "      person  bicycle  car  motorcycle  airplane  bus  train  truck  boat  \\\n",
      "0          1        0    0           0         0    0      0      0     0   \n",
      "1          0        1    1           0         1    1      0      1     1   \n",
      "2          1        0    1           0         0    1      1      1     0   \n",
      "3          0        1    1           0         1    1      1      1     0   \n",
      "4          1        1    0           0         1    1      0      0     0   \n",
      "...      ...      ...  ...         ...       ...  ...    ...    ...   ...   \n",
      "9995       0        1    0           1         1    1      0      0     1   \n",
      "9996       0        1    0           1         0    0      0      0     1   \n",
      "9997       0        0    1           0         0    1      0      1     1   \n",
      "9998       1        1    1           1         1    0      0      1     1   \n",
      "9999       1        0    1           0         0    0      0      0     1   \n",
      "\n",
      "      traffic light  \n",
      "0                 0  \n",
      "1                 1  \n",
      "2                 1  \n",
      "3                 1  \n",
      "4                 1  \n",
      "...             ...  \n",
      "9995              0  \n",
      "9996              0  \n",
      "9997              0  \n",
      "9998              0  \n",
      "9999              1  \n",
      "\n",
      "[10000 rows x 10 columns]\n"
     ]
    }
   ],
   "source": [
    "column_labels =  { # from https://docs.ultralytics.com/datasets/detect/coco/#dataset-yaml, It's the Yolo Dataset\n",
    "  0: \"person\",\n",
    "  1: \"bicycle\",\n",
    "  2: \"car\",\n",
    "  3: \"motorcycle\",\n",
    "  4: \"airplane\",\n",
    "  5: \"bus\",\n",
    "  6: \"train\",\n",
    "  7: \"truck\",\n",
    "  8: \"boat\",\n",
    "  9: \"traffic light\",\n",
    "}\n",
    "\n",
    "source_data_df.rename(columns=column_labels, inplace=True)\n",
    "print(source_data_df)"
   ]
  },
  {
   "cell_type": "code",
   "execution_count": 4,
   "metadata": {},
   "outputs": [
    {
     "name": "stdout",
     "output_type": "stream",
     "text": [
      "0\n"
     ]
    }
   ],
   "source": [
    "# check if all numbers are correct\n",
    "# TODO: What is the a pandas way?\n",
    "\n",
    "amount = 0\n",
    "\n",
    "for row in source_data_df:\n",
    "    for item in source_data_df[row]:\n",
    "        if item != 0:\n",
    "            if item != 1:\n",
    "                amount += 1\n",
    "\n",
    "print(amount)"
   ]
  },
  {
   "cell_type": "code",
   "execution_count": 5,
   "metadata": {},
   "outputs": [
    {
     "name": "stdout",
     "output_type": "stream",
     "text": [
      "      person  bicycle  car  motorcycle  airplane  bus  train  truck  boat  \\\n",
      "0          1        0    0           0         0    0      0      0     0   \n",
      "1          0        1    1           0         1    1      0      1     1   \n",
      "2          1        0    1           0         0    1      1      1     0   \n",
      "3          0        1    1           0         1    1      1      1     0   \n",
      "4          1        1    0           0         1    1      0      0     0   \n",
      "...      ...      ...  ...         ...       ...  ...    ...    ...   ...   \n",
      "9995       0        1    0           1         1    1      0      0     1   \n",
      "9996       0        1    0           1         0    0      0      0     1   \n",
      "9997       0        0    1           0         0    1      0      1     1   \n",
      "9998       1        1    1           1         1    0      0      1     1   \n",
      "9999       1        0    1           0         0    0      0      0     1   \n",
      "\n",
      "      traffic light Throw_or_Keep  \n",
      "0                 0           NaN  \n",
      "1                 1           NaN  \n",
      "2                 1           NaN  \n",
      "3                 1           NaN  \n",
      "4                 1           NaN  \n",
      "...             ...           ...  \n",
      "9995              0           NaN  \n",
      "9996              0           NaN  \n",
      "9997              0           NaN  \n",
      "9998              0           NaN  \n",
      "9999              1           NaN  \n",
      "\n",
      "[10000 rows x 11 columns]\n"
     ]
    }
   ],
   "source": [
    "# Adding the answerous column, y. \n",
    "# signals: 1 = keep, 0 = delete\n",
    "\n",
    "# create the answer_column. For n\n",
    "# TODO: how to add headline at once?\n",
    "answers_column = pd.DataFrame(index=np.arange(10000), columns=np.arange(1))\n",
    "# print(len(answers_column))\n",
    "\n",
    "answers_column.rename(columns={0:\"Throw_or_Keep\"}, inplace=True) # TODO: Why is not tuple and list working for columns?\n",
    "# print(answers_column)\n",
    "\n",
    "source_data_df = source_data_df.join(answers_column) # TODO: Not persistent. What is the pandas way?\n",
    "print(source_data_df)\n",
    "\n"
   ]
  },
  {
   "cell_type": "code",
   "execution_count": 6,
   "metadata": {},
   "outputs": [
    {
     "name": "stdout",
     "output_type": "stream",
     "text": [
      "      person  bicycle  car  motorcycle  airplane  bus  train  truck  boat  \\\n",
      "0          1        0    0           0         0    0      0      0     0   \n",
      "1          0        1    1           0         1    1      0      1     1   \n",
      "2          1        0    1           0         0    1      1      1     0   \n",
      "3          0        1    1           0         1    1      1      1     0   \n",
      "4          1        1    0           0         1    1      0      0     0   \n",
      "...      ...      ...  ...         ...       ...  ...    ...    ...   ...   \n",
      "9995       0        1    0           1         1    1      0      0     1   \n",
      "9996       0        1    0           1         0    0      0      0     1   \n",
      "9997       0        0    1           0         0    1      0      1     1   \n",
      "9998       1        1    1           1         1    0      0      1     1   \n",
      "9999       1        0    1           0         0    0      0      0     1   \n",
      "\n",
      "      traffic light Throw_or_Keep  \n",
      "0                 0             0  \n",
      "1                 1             1  \n",
      "2                 1             0  \n",
      "3                 1             1  \n",
      "4                 1             1  \n",
      "...             ...           ...  \n",
      "9995              0             1  \n",
      "9996              0             1  \n",
      "9997              0             0  \n",
      "9998              0             1  \n",
      "9999              1             0  \n",
      "\n",
      "[10000 rows x 11 columns]\n"
     ]
    }
   ],
   "source": [
    "# calculate if all elements are present, giving a 0 or 1\n",
    "source_data_df.loc[(source_data_df['bicycle'] == 1) \n",
    "                  & (source_data_df['bicycle'] == 1) \n",
    "                  & (source_data_df['bicycle'] == 1),\n",
    "                  \"Throw_or_Keep\"] = 1\n",
    "\n",
    "source_data_df.loc[(source_data_df['bicycle'] != 1) \n",
    "                  & (source_data_df['bicycle'] != 1) \n",
    "                  & (source_data_df['bicycle'] != 1),\n",
    "                  \"Throw_or_Keep\"] = 0\n",
    "\n",
    "print(source_data_df)"
   ]
  },
  {
   "cell_type": "code",
   "execution_count": 14,
   "metadata": {},
   "outputs": [
    {
     "name": "stdout",
     "output_type": "stream",
     "text": [
      "[[1 0 0 ... 0 0 0]\n",
      " [0 1 1 ... 1 1 1]\n",
      " [1 0 1 ... 0 1 0]\n",
      " ...\n",
      " [0 0 1 ... 1 0 0]\n",
      " [1 1 1 ... 1 0 1]\n",
      " [1 0 1 ... 1 1 0]]\n"
     ]
    }
   ],
   "source": [
    "source_data_np_array = source_data_df.to_numpy()\n",
    "#print(source_data_df)\n",
    "print(source_data_np_array)"
   ]
  },
  {
   "cell_type": "code",
   "execution_count": 66,
   "metadata": {},
   "outputs": [
    {
     "name": "stdout",
     "output_type": "stream",
     "text": [
      "(10000, 9)\n",
      "[[1 0 0 ... 0 0 0]\n",
      " [0 1 1 ... 0 1 1]\n",
      " [1 0 1 ... 1 1 0]\n",
      " ...\n",
      " [0 0 1 ... 0 1 1]\n",
      " [1 1 1 ... 0 1 1]\n",
      " [1 0 1 ... 0 0 1]]\n",
      "(1, 10000)\n",
      "[[0 1 0 ... 0 1 0]]\n",
      "True\n",
      "[[1 0 0 ... 0 0 0]\n",
      " [0 1 1 ... 0 1 1]\n",
      " [1 0 1 ... 1 1 0]\n",
      " ...\n",
      " [0 0 1 ... 0 1 1]\n",
      " [1 1 1 ... 0 1 1]\n",
      " [1 0 1 ... 0 0 1]]\n",
      "[[False False False ... False False False]\n",
      " [False False False ... False False False]\n",
      " [False False False ... False False False]\n",
      " ...\n",
      " [False False False ... False False False]\n",
      " [False False False ... False False False]\n",
      " [False False False ... False False False]]\n"
     ]
    },
    {
     "ename": "ValueError",
     "evalue": "Unknown label type: unknown. Maybe you are trying to fit a classifier, which expects discrete classes on a regression target with continuous values.",
     "output_type": "error",
     "traceback": [
      "\u001B[0;31m---------------------------------------------------------------------------\u001B[0m",
      "\u001B[0;31mValueError\u001B[0m                                Traceback (most recent call last)",
      "Cell \u001B[0;32mIn[66], line 18\u001B[0m\n\u001B[1;32m     15\u001B[0m \u001B[38;5;28mprint\u001B[39m((X \u001B[38;5;241m==\u001B[39m \u001B[38;5;124m'\u001B[39m\u001B[38;5;124m1\u001B[39m\u001B[38;5;124m'\u001B[39m) \u001B[38;5;241m|\u001B[39m (X \u001B[38;5;241m==\u001B[39m \u001B[38;5;124m'\u001B[39m\u001B[38;5;124m0\u001B[39m\u001B[38;5;124m'\u001B[39m))\n\u001B[1;32m     17\u001B[0m clf \u001B[38;5;241m=\u001B[39m svm\u001B[38;5;241m.\u001B[39mSVC()\n\u001B[0;32m---> 18\u001B[0m \u001B[43mclf\u001B[49m\u001B[38;5;241;43m.\u001B[39;49m\u001B[43mfit\u001B[49m\u001B[43m(\u001B[49m\u001B[43mX\u001B[49m\u001B[43m,\u001B[49m\u001B[43m \u001B[49m\u001B[43my\u001B[49m\u001B[38;5;241;43m.\u001B[39;49m\u001B[43mflatten\u001B[49m\u001B[43m(\u001B[49m\u001B[43m)\u001B[49m\u001B[43m)\u001B[49m\n",
      "File \u001B[0;32m~/utbildning/data24hel/kurser/data_science/code/inlämning/uppgift_3/prepWork_different_pics/.venv/lib/python3.12/site-packages/sklearn/base.py:1389\u001B[0m, in \u001B[0;36m_fit_context.<locals>.decorator.<locals>.wrapper\u001B[0;34m(estimator, *args, **kwargs)\u001B[0m\n\u001B[1;32m   1382\u001B[0m     estimator\u001B[38;5;241m.\u001B[39m_validate_params()\n\u001B[1;32m   1384\u001B[0m \u001B[38;5;28;01mwith\u001B[39;00m config_context(\n\u001B[1;32m   1385\u001B[0m     skip_parameter_validation\u001B[38;5;241m=\u001B[39m(\n\u001B[1;32m   1386\u001B[0m         prefer_skip_nested_validation \u001B[38;5;129;01mor\u001B[39;00m global_skip_validation\n\u001B[1;32m   1387\u001B[0m     )\n\u001B[1;32m   1388\u001B[0m ):\n\u001B[0;32m-> 1389\u001B[0m     \u001B[38;5;28;01mreturn\u001B[39;00m \u001B[43mfit_method\u001B[49m\u001B[43m(\u001B[49m\u001B[43mestimator\u001B[49m\u001B[43m,\u001B[49m\u001B[43m \u001B[49m\u001B[38;5;241;43m*\u001B[39;49m\u001B[43margs\u001B[49m\u001B[43m,\u001B[49m\u001B[43m \u001B[49m\u001B[38;5;241;43m*\u001B[39;49m\u001B[38;5;241;43m*\u001B[39;49m\u001B[43mkwargs\u001B[49m\u001B[43m)\u001B[49m\n",
      "File \u001B[0;32m~/utbildning/data24hel/kurser/data_science/code/inlämning/uppgift_3/prepWork_different_pics/.venv/lib/python3.12/site-packages/sklearn/svm/_base.py:207\u001B[0m, in \u001B[0;36mBaseLibSVM.fit\u001B[0;34m(self, X, y, sample_weight)\u001B[0m\n\u001B[1;32m    196\u001B[0m \u001B[38;5;28;01melse\u001B[39;00m:\n\u001B[1;32m    197\u001B[0m     X, y \u001B[38;5;241m=\u001B[39m validate_data(\n\u001B[1;32m    198\u001B[0m         \u001B[38;5;28mself\u001B[39m,\n\u001B[1;32m    199\u001B[0m         X,\n\u001B[0;32m   (...)\u001B[0m\n\u001B[1;32m    204\u001B[0m         accept_large_sparse\u001B[38;5;241m=\u001B[39m\u001B[38;5;28;01mFalse\u001B[39;00m,\n\u001B[1;32m    205\u001B[0m     )\n\u001B[0;32m--> 207\u001B[0m y \u001B[38;5;241m=\u001B[39m \u001B[38;5;28;43mself\u001B[39;49m\u001B[38;5;241;43m.\u001B[39;49m\u001B[43m_validate_targets\u001B[49m\u001B[43m(\u001B[49m\u001B[43my\u001B[49m\u001B[43m)\u001B[49m\n\u001B[1;32m    209\u001B[0m sample_weight \u001B[38;5;241m=\u001B[39m np\u001B[38;5;241m.\u001B[39masarray(\n\u001B[1;32m    210\u001B[0m     [] \u001B[38;5;28;01mif\u001B[39;00m sample_weight \u001B[38;5;129;01mis\u001B[39;00m \u001B[38;5;28;01mNone\u001B[39;00m \u001B[38;5;28;01melse\u001B[39;00m sample_weight, dtype\u001B[38;5;241m=\u001B[39mnp\u001B[38;5;241m.\u001B[39mfloat64\n\u001B[1;32m    211\u001B[0m )\n\u001B[1;32m    212\u001B[0m solver_type \u001B[38;5;241m=\u001B[39m LIBSVM_IMPL\u001B[38;5;241m.\u001B[39mindex(\u001B[38;5;28mself\u001B[39m\u001B[38;5;241m.\u001B[39m_impl)\n",
      "File \u001B[0;32m~/utbildning/data24hel/kurser/data_science/code/inlämning/uppgift_3/prepWork_different_pics/.venv/lib/python3.12/site-packages/sklearn/svm/_base.py:747\u001B[0m, in \u001B[0;36mBaseSVC._validate_targets\u001B[0;34m(self, y)\u001B[0m\n\u001B[1;32m    745\u001B[0m \u001B[38;5;28;01mdef\u001B[39;00m\u001B[38;5;250m \u001B[39m\u001B[38;5;21m_validate_targets\u001B[39m(\u001B[38;5;28mself\u001B[39m, y):\n\u001B[1;32m    746\u001B[0m     y_ \u001B[38;5;241m=\u001B[39m column_or_1d(y, warn\u001B[38;5;241m=\u001B[39m\u001B[38;5;28;01mTrue\u001B[39;00m)\n\u001B[0;32m--> 747\u001B[0m     \u001B[43mcheck_classification_targets\u001B[49m\u001B[43m(\u001B[49m\u001B[43my\u001B[49m\u001B[43m)\u001B[49m\n\u001B[1;32m    748\u001B[0m     \u001B[38;5;28mcls\u001B[39m, y \u001B[38;5;241m=\u001B[39m np\u001B[38;5;241m.\u001B[39munique(y_, return_inverse\u001B[38;5;241m=\u001B[39m\u001B[38;5;28;01mTrue\u001B[39;00m)\n\u001B[1;32m    749\u001B[0m     \u001B[38;5;28mself\u001B[39m\u001B[38;5;241m.\u001B[39mclass_weight_ \u001B[38;5;241m=\u001B[39m compute_class_weight(\u001B[38;5;28mself\u001B[39m\u001B[38;5;241m.\u001B[39mclass_weight, classes\u001B[38;5;241m=\u001B[39m\u001B[38;5;28mcls\u001B[39m, y\u001B[38;5;241m=\u001B[39my_)\n",
      "File \u001B[0;32m~/utbildning/data24hel/kurser/data_science/code/inlämning/uppgift_3/prepWork_different_pics/.venv/lib/python3.12/site-packages/sklearn/utils/multiclass.py:222\u001B[0m, in \u001B[0;36mcheck_classification_targets\u001B[0;34m(y)\u001B[0m\n\u001B[1;32m    214\u001B[0m y_type \u001B[38;5;241m=\u001B[39m type_of_target(y, input_name\u001B[38;5;241m=\u001B[39m\u001B[38;5;124m\"\u001B[39m\u001B[38;5;124my\u001B[39m\u001B[38;5;124m\"\u001B[39m)\n\u001B[1;32m    215\u001B[0m \u001B[38;5;28;01mif\u001B[39;00m y_type \u001B[38;5;129;01mnot\u001B[39;00m \u001B[38;5;129;01min\u001B[39;00m [\n\u001B[1;32m    216\u001B[0m     \u001B[38;5;124m\"\u001B[39m\u001B[38;5;124mbinary\u001B[39m\u001B[38;5;124m\"\u001B[39m,\n\u001B[1;32m    217\u001B[0m     \u001B[38;5;124m\"\u001B[39m\u001B[38;5;124mmulticlass\u001B[39m\u001B[38;5;124m\"\u001B[39m,\n\u001B[0;32m   (...)\u001B[0m\n\u001B[1;32m    220\u001B[0m     \u001B[38;5;124m\"\u001B[39m\u001B[38;5;124mmultilabel-sequences\u001B[39m\u001B[38;5;124m\"\u001B[39m,\n\u001B[1;32m    221\u001B[0m ]:\n\u001B[0;32m--> 222\u001B[0m     \u001B[38;5;28;01mraise\u001B[39;00m \u001B[38;5;167;01mValueError\u001B[39;00m(\n\u001B[1;32m    223\u001B[0m         \u001B[38;5;124mf\u001B[39m\u001B[38;5;124m\"\u001B[39m\u001B[38;5;124mUnknown label type: \u001B[39m\u001B[38;5;132;01m{\u001B[39;00my_type\u001B[38;5;132;01m}\u001B[39;00m\u001B[38;5;124m. Maybe you are trying to fit a \u001B[39m\u001B[38;5;124m\"\u001B[39m\n\u001B[1;32m    224\u001B[0m         \u001B[38;5;124m\"\u001B[39m\u001B[38;5;124mclassifier, which expects discrete classes on a \u001B[39m\u001B[38;5;124m\"\u001B[39m\n\u001B[1;32m    225\u001B[0m         \u001B[38;5;124m\"\u001B[39m\u001B[38;5;124mregression target with continuous values.\u001B[39m\u001B[38;5;124m\"\u001B[39m\n\u001B[1;32m    226\u001B[0m     )\n",
      "\u001B[0;31mValueError\u001B[0m: Unknown label type: unknown. Maybe you are trying to fit a classifier, which expects discrete classes on a regression target with continuous values."
     ]
    }
   ],
   "source": [
    "from sklearn import svm\n",
    "\n",
    "\n",
    "X = source_data_np_array[0:, 0:9]\n",
    "y = np.transpose(source_data_np_array[0:, 10:])\n",
    "print(X.shape)\n",
    "print(X)\n",
    "print(y.shape)\n",
    "print(y)\n",
    "\n",
    "b = 1\n",
    "print((b == 1))\n",
    "\n",
    "print(X)\n",
    "print((X == '1') | (X == '0'))\n",
    "\n",
    "clf = svm.SVC()\n",
    "clf.fit(X, y.flatten())\n"
   ]
  },
  {
   "metadata": {
    "ExecuteTime": {
     "end_time": "2025-01-29T13:02:15.463342Z",
     "start_time": "2025-01-29T13:02:15.452122Z"
    }
   },
   "cell_type": "code",
   "source": [
    "testpyarr = np.arange(3,5, 4)\n",
    "print(testpyarr)"
   ],
   "outputs": [
    {
     "name": "stdout",
     "output_type": "stream",
     "text": [
      "[3]\n"
     ]
    }
   ],
   "execution_count": 5
  },
  {
   "metadata": {},
   "cell_type": "code",
   "outputs": [],
   "execution_count": null,
   "source": ""
  }
 ],
 "metadata": {
  "kernelspec": {
   "display_name": ".venv",
   "language": "python",
   "name": "python3"
  },
  "language_info": {
   "codemirror_mode": {
    "name": "ipython",
    "version": 3
   },
   "file_extension": ".py",
   "mimetype": "text/x-python",
   "name": "python",
   "nbconvert_exporter": "python",
   "pygments_lexer": "ipython3",
   "version": "3.12.3"
  }
 },
 "nbformat": 4,
 "nbformat_minor": 2
}
